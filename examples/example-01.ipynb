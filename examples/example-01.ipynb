{
 "cells": [
  {
   "cell_type": "code",
   "execution_count": 19,
   "metadata": {},
   "outputs": [
    {
     "name": "stdout",
     "output_type": "stream",
     "text": [
      "The autoreload extension is already loaded. To reload it, use:\n",
      "  %reload_ext autoreload\n"
     ]
    }
   ],
   "source": [
    "%load_ext autoreload\n",
    "%autoreload 2"
   ]
  },
  {
   "cell_type": "code",
   "execution_count": 20,
   "metadata": {
    "collapsed": true
   },
   "outputs": [],
   "source": [
    "%matplotlib inline"
   ]
  },
  {
   "cell_type": "code",
   "execution_count": 21,
   "metadata": {
    "collapsed": true
   },
   "outputs": [],
   "source": [
    "import acresults as ac\n",
    "import numpy as np\n",
    "import pandas as pd\n",
    "\n",
    "from functools import reduce"
   ]
  },
  {
   "cell_type": "code",
   "execution_count": 22,
   "metadata": {
    "collapsed": true
   },
   "outputs": [],
   "source": [
    "AQUACROP_DIR = r\"C:\\Users\\u0101200\\Dropbox (Personal)\\PhD\\crop-water\\apps\\FAO\\AquaCrop\"\n",
    "pnnmuf = ac.ACResults(\"P.N.NM.UF\", AQUACROP_DIR)\n",
    "pnwnuf = ac.ACResults(\"P.N.WM.UF\", AQUACROP_DIR)\n",
    "prnmuf = ac.ACResults(\"P.R.NM.UF\", AQUACROP_DIR)"
   ]
  },
  {
   "cell_type": "code",
   "execution_count": 23,
   "metadata": {
    "collapsed": true
   },
   "outputs": [],
   "source": [
    "inet = pnnmuf.get(\"Inet\")"
   ]
  },
  {
   "cell_type": "code",
   "execution_count": 24,
   "metadata": {
    "collapsed": true
   },
   "outputs": [],
   "source": [
    "fa = ac.NIR_fa(inet, by=\"month\")"
   ]
  },
  {
   "cell_type": "code",
   "execution_count": 25,
   "metadata": {},
   "outputs": [
    {
     "data": {
      "text/html": [
       "<div>\n",
       "<style>\n",
       "    .dataframe thead tr:only-child th {\n",
       "        text-align: right;\n",
       "    }\n",
       "\n",
       "    .dataframe thead th {\n",
       "        text-align: left;\n",
       "    }\n",
       "\n",
       "    .dataframe tbody tr th {\n",
       "        vertical-align: top;\n",
       "    }\n",
       "</style>\n",
       "<table border=\"1\" class=\"dataframe\">\n",
       "  <thead>\n",
       "    <tr style=\"text-align: right;\">\n",
       "      <th></th>\n",
       "      <th>11</th>\n",
       "      <th>12</th>\n",
       "      <th>01</th>\n",
       "      <th>02</th>\n",
       "      <th>03</th>\n",
       "      <th>04</th>\n",
       "      <th>05</th>\n",
       "      <th>06</th>\n",
       "    </tr>\n",
       "  </thead>\n",
       "  <tbody>\n",
       "    <tr>\n",
       "      <th>Dry</th>\n",
       "      <td>0.0</td>\n",
       "      <td>133.467515</td>\n",
       "      <td>99.763701</td>\n",
       "      <td>95.053591</td>\n",
       "      <td>119.348031</td>\n",
       "      <td>107.891710</td>\n",
       "      <td>71.967699</td>\n",
       "      <td>62.446594</td>\n",
       "    </tr>\n",
       "    <tr>\n",
       "      <th>Normal</th>\n",
       "      <td>0.0</td>\n",
       "      <td>112.006897</td>\n",
       "      <td>78.548276</td>\n",
       "      <td>75.841379</td>\n",
       "      <td>93.534483</td>\n",
       "      <td>83.936578</td>\n",
       "      <td>48.542957</td>\n",
       "      <td>61.100000</td>\n",
       "    </tr>\n",
       "    <tr>\n",
       "      <th>Wet</th>\n",
       "      <td>0.0</td>\n",
       "      <td>90.546279</td>\n",
       "      <td>57.332850</td>\n",
       "      <td>56.629167</td>\n",
       "      <td>67.720934</td>\n",
       "      <td>58.796203</td>\n",
       "      <td>22.755232</td>\n",
       "      <td>59.753406</td>\n",
       "    </tr>\n",
       "  </tbody>\n",
       "</table>\n",
       "</div>"
      ],
      "text/plain": [
       "         11          12         01         02          03          04  \\\n",
       "Dry     0.0  133.467515  99.763701  95.053591  119.348031  107.891710   \n",
       "Normal  0.0  112.006897  78.548276  75.841379   93.534483   83.936578   \n",
       "Wet     0.0   90.546279  57.332850  56.629167   67.720934   58.796203   \n",
       "\n",
       "               05         06  \n",
       "Dry     71.967699  62.446594  \n",
       "Normal  48.542957  61.100000  \n",
       "Wet     22.755232  59.753406  "
      ]
     },
     "execution_count": 25,
     "metadata": {},
     "output_type": "execute_result"
    }
   ],
   "source": [
    "ac.NIR_chart_month(fa, \"11\", \"06\")"
   ]
  },
  {
   "cell_type": "code",
   "execution_count": 26,
   "metadata": {},
   "outputs": [
    {
     "name": "stderr",
     "output_type": "stream",
     "text": [
      "C:\\ProgramData\\Anaconda3\\lib\\site-packages\\numpy\\core\\fromnumeric.py:2889: RuntimeWarning: Mean of empty slice.\n",
      "  out=out, **kwargs)\n",
      "C:\\ProgramData\\Anaconda3\\lib\\site-packages\\numpy\\core\\_methods.py:80: RuntimeWarning: invalid value encountered in double_scalars\n",
      "  ret = ret.dtype.type(ret / rcount)\n",
      "C:\\ProgramData\\Anaconda3\\lib\\site-packages\\numpy\\core\\_methods.py:135: RuntimeWarning: Degrees of freedom <= 0 for slice\n",
      "  keepdims=keepdims)\n",
      "C:\\ProgramData\\Anaconda3\\lib\\site-packages\\numpy\\core\\_methods.py:105: RuntimeWarning: invalid value encountered in true_divide\n",
      "  arrmean, rcount, out=arrmean, casting='unsafe', subok=False)\n",
      "C:\\ProgramData\\Anaconda3\\lib\\site-packages\\numpy\\core\\_methods.py:127: RuntimeWarning: invalid value encountered in double_scalars\n",
      "  ret = ret.dtype.type(ret / rcount)\n"
     ]
    }
   ],
   "source": [
    "fa = ac.NIR_fa(inet, by=\"decade\")"
   ]
  },
  {
   "cell_type": "code",
   "execution_count": 27,
   "metadata": {},
   "outputs": [
    {
     "data": {
      "text/html": [
       "<div>\n",
       "<style>\n",
       "    .dataframe thead tr:only-child th {\n",
       "        text-align: right;\n",
       "    }\n",
       "\n",
       "    .dataframe thead th {\n",
       "        text-align: left;\n",
       "    }\n",
       "\n",
       "    .dataframe tbody tr th {\n",
       "        vertical-align: top;\n",
       "    }\n",
       "</style>\n",
       "<table border=\"1\" class=\"dataframe\">\n",
       "  <thead>\n",
       "    <tr style=\"text-align: right;\">\n",
       "      <th></th>\n",
       "      <th>11-D1</th>\n",
       "      <th>11-D2</th>\n",
       "      <th>11-D3</th>\n",
       "      <th>12-D1</th>\n",
       "      <th>12-D2</th>\n",
       "      <th>12-D3</th>\n",
       "      <th>01-D1</th>\n",
       "      <th>01-D2</th>\n",
       "      <th>01-D3</th>\n",
       "      <th>02-D1</th>\n",
       "      <th>...</th>\n",
       "      <th>04-D1</th>\n",
       "      <th>04-D2</th>\n",
       "      <th>04-D3</th>\n",
       "      <th>05-D1</th>\n",
       "      <th>05-D2</th>\n",
       "      <th>05-D3</th>\n",
       "      <th>06-D1</th>\n",
       "      <th>06-D2</th>\n",
       "      <th>06-D3</th>\n",
       "      <th>07-D1</th>\n",
       "    </tr>\n",
       "  </thead>\n",
       "  <tbody>\n",
       "    <tr>\n",
       "      <th>Dry</th>\n",
       "      <td>0.0</td>\n",
       "      <td>0.0</td>\n",
       "      <td>0.0</td>\n",
       "      <td>59.522001</td>\n",
       "      <td>44.328544</td>\n",
       "      <td>40.842143</td>\n",
       "      <td>35.905696</td>\n",
       "      <td>34.949464</td>\n",
       "      <td>41.455644</td>\n",
       "      <td>37.476146</td>\n",
       "      <td>...</td>\n",
       "      <td>41.349452</td>\n",
       "      <td>39.051034</td>\n",
       "      <td>36.946217</td>\n",
       "      <td>35.949055</td>\n",
       "      <td>28.731371</td>\n",
       "      <td>28.114775</td>\n",
       "      <td>23.523944</td>\n",
       "      <td>18.664458</td>\n",
       "      <td>25.812892</td>\n",
       "      <td>24.22689</td>\n",
       "    </tr>\n",
       "    <tr>\n",
       "      <th>Normal</th>\n",
       "      <td>0.0</td>\n",
       "      <td>0.0</td>\n",
       "      <td>0.0</td>\n",
       "      <td>48.912265</td>\n",
       "      <td>34.527586</td>\n",
       "      <td>30.900000</td>\n",
       "      <td>26.613793</td>\n",
       "      <td>23.996552</td>\n",
       "      <td>28.249027</td>\n",
       "      <td>26.689655</td>\n",
       "      <td>...</td>\n",
       "      <td>32.210529</td>\n",
       "      <td>31.776923</td>\n",
       "      <td>27.986957</td>\n",
       "      <td>28.880283</td>\n",
       "      <td>19.936364</td>\n",
       "      <td>19.800000</td>\n",
       "      <td>19.400000</td>\n",
       "      <td>16.350000</td>\n",
       "      <td>25.350000</td>\n",
       "      <td>20.65000</td>\n",
       "    </tr>\n",
       "    <tr>\n",
       "      <th>Wet</th>\n",
       "      <td>0.0</td>\n",
       "      <td>0.0</td>\n",
       "      <td>0.0</td>\n",
       "      <td>37.085939</td>\n",
       "      <td>24.726629</td>\n",
       "      <td>20.957857</td>\n",
       "      <td>17.321890</td>\n",
       "      <td>13.043640</td>\n",
       "      <td>14.388977</td>\n",
       "      <td>15.903164</td>\n",
       "      <td>...</td>\n",
       "      <td>22.619434</td>\n",
       "      <td>24.502812</td>\n",
       "      <td>19.027697</td>\n",
       "      <td>21.098446</td>\n",
       "      <td>11.141356</td>\n",
       "      <td>11.485225</td>\n",
       "      <td>15.276056</td>\n",
       "      <td>14.035542</td>\n",
       "      <td>24.887108</td>\n",
       "      <td>17.07311</td>\n",
       "    </tr>\n",
       "  </tbody>\n",
       "</table>\n",
       "<p>3 rows × 25 columns</p>\n",
       "</div>"
      ],
      "text/plain": [
       "        11-D1  11-D2  11-D3      12-D1      12-D2      12-D3      01-D1  \\\n",
       "Dry       0.0    0.0    0.0  59.522001  44.328544  40.842143  35.905696   \n",
       "Normal    0.0    0.0    0.0  48.912265  34.527586  30.900000  26.613793   \n",
       "Wet       0.0    0.0    0.0  37.085939  24.726629  20.957857  17.321890   \n",
       "\n",
       "            01-D2      01-D3      02-D1    ...         04-D1      04-D2  \\\n",
       "Dry     34.949464  41.455644  37.476146    ...     41.349452  39.051034   \n",
       "Normal  23.996552  28.249027  26.689655    ...     32.210529  31.776923   \n",
       "Wet     13.043640  14.388977  15.903164    ...     22.619434  24.502812   \n",
       "\n",
       "            04-D3      05-D1      05-D2      05-D3      06-D1      06-D2  \\\n",
       "Dry     36.946217  35.949055  28.731371  28.114775  23.523944  18.664458   \n",
       "Normal  27.986957  28.880283  19.936364  19.800000  19.400000  16.350000   \n",
       "Wet     19.027697  21.098446  11.141356  11.485225  15.276056  14.035542   \n",
       "\n",
       "            06-D3     07-D1  \n",
       "Dry     25.812892  24.22689  \n",
       "Normal  25.350000  20.65000  \n",
       "Wet     24.887108  17.07311  \n",
       "\n",
       "[3 rows x 25 columns]"
      ]
     },
     "execution_count": 27,
     "metadata": {},
     "output_type": "execute_result"
    }
   ],
   "source": [
    "ac.NIR_chart_decade(fa, \"11-D1\", \"07-D1\")"
   ]
  },
  {
   "cell_type": "code",
   "execution_count": 1,
   "metadata": {
    "collapsed": true
   },
   "outputs": [],
   "source": [
    "import matplotlib.pyplot as plt"
   ]
  },
  {
   "cell_type": "code",
   "execution_count": 13,
   "metadata": {},
   "outputs": [
    {
     "data": {
      "image/png": "[encoded data removed]",
      "text/plain": [
       "<matplotlib.figure.Figure at 0x12cfbf7bf60>"
      ]
     },
     "metadata": {},
     "output_type": "display_data"
    }
   ],
   "source": [
    "x = plt.boxplot([pnnmuf.get(\"Run\").WPet, pnwnuf.get(\"Run\").WPet, prnmuf.get(\"Run\").WPet], notch=True)"
   ]
  },
  {
   "cell_type": "code",
   "execution_count": null,
   "metadata": {
    "collapsed": true
   },
   "outputs": [],
   "source": []
  }
 ],
 "metadata": {
  "kernelspec": {
   "display_name": "Python 3",
   "language": "python",
   "name": "python3"
  },
  "language_info": {
   "codemirror_mode": {
    "name": "ipython",
    "version": 3
   },
   "file_extension": ".py",
   "mimetype": "text/x-python",
   "name": "python",
   "nbconvert_exporter": "python",
   "pygments_lexer": "ipython3",
   "version": "3.6.1"
  }
 },
 "nbformat": 4,
 "nbformat_minor": 2
}
