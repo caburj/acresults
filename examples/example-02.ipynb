{
 "cells": [
  {
   "cell_type": "code",
   "execution_count": 1,
   "metadata": {},
   "outputs": [],
   "source": [
    "%load_ext autoreload\n",
    "%autoreload 2"
   ]
  },
  {
   "cell_type": "code",
   "execution_count": 2,
   "metadata": {
    "collapsed": true
   },
   "outputs": [],
   "source": [
    "%matplotlib inline"
   ]
  },
  {
   "cell_type": "code",
   "execution_count": 3,
   "metadata": {
    "collapsed": true
   },
   "outputs": [],
   "source": [
    "import acresults as ac\n",
    "import numpy as np\n",
    "import pandas as pd\n",
    "\n",
    "from functools import reduce\n",
    "import seaborn as sns\n",
    "sns.set_style(\"whitegrid\")"
   ]
  },
  {
   "cell_type": "code",
   "execution_count": 4,
   "metadata": {
    "collapsed": true
   },
   "outputs": [],
   "source": [
    "AQUACROP_DIR = r\"C:\\Users\\u0101200\\Dropbox (Personal)\\PhD\\crop-water\\apps\\FAO\\AquaCrop\""
   ]
  },
  {
   "cell_type": "code",
   "execution_count": 5,
   "metadata": {
    "collapsed": true
   },
   "outputs": [],
   "source": [
    "pnnmuf = ac.ACOutput(\"P.N.NM.UF\", AQUACROP_DIR)\n",
    "pnwmuf = ac.ACOutput(\"P.N.WM.UF\", AQUACROP_DIR)\n",
    "prnmuf = ac.ACOutput(\"P.R.NM.UF\", AQUACROP_DIR)\n",
    "prwmuf = ac.ACOutput(\"P.R.WM.UF\", AQUACROP_DIR)"
   ]
  },
  {
   "cell_type": "code",
   "execution_count": 6,
   "metadata": {},
   "outputs": [
    {
     "data": {
      "text/html": [
       "<div>\n",
       "<style>\n",
       "    .dataframe thead tr:only-child th {\n",
       "        text-align: right;\n",
       "    }\n",
       "\n",
       "    .dataframe thead th {\n",
       "        text-align: left;\n",
       "    }\n",
       "\n",
       "    .dataframe tbody tr th {\n",
       "        vertical-align: top;\n",
       "    }\n",
       "</style>\n",
       "<table border=\"1\" class=\"dataframe\">\n",
       "  <thead>\n",
       "    <tr style=\"text-align: right;\">\n",
       "      <th></th>\n",
       "      <th>11</th>\n",
       "      <th>12</th>\n",
       "      <th>01</th>\n",
       "      <th>02</th>\n",
       "      <th>03</th>\n",
       "      <th>04</th>\n",
       "      <th>05</th>\n",
       "      <th>06</th>\n",
       "    </tr>\n",
       "  </thead>\n",
       "  <tbody>\n",
       "    <tr>\n",
       "      <th>Dry</th>\n",
       "      <td>0.0</td>\n",
       "      <td>133.467515</td>\n",
       "      <td>99.763701</td>\n",
       "      <td>95.053591</td>\n",
       "      <td>119.348031</td>\n",
       "      <td>107.891710</td>\n",
       "      <td>71.967699</td>\n",
       "      <td>62.446594</td>\n",
       "    </tr>\n",
       "    <tr>\n",
       "      <th>Normal</th>\n",
       "      <td>0.0</td>\n",
       "      <td>112.006897</td>\n",
       "      <td>78.548276</td>\n",
       "      <td>75.841379</td>\n",
       "      <td>93.534483</td>\n",
       "      <td>83.936578</td>\n",
       "      <td>48.542957</td>\n",
       "      <td>61.100000</td>\n",
       "    </tr>\n",
       "    <tr>\n",
       "      <th>Wet</th>\n",
       "      <td>0.0</td>\n",
       "      <td>90.546279</td>\n",
       "      <td>57.332850</td>\n",
       "      <td>56.629167</td>\n",
       "      <td>67.720934</td>\n",
       "      <td>58.796203</td>\n",
       "      <td>22.755232</td>\n",
       "      <td>59.753406</td>\n",
       "    </tr>\n",
       "  </tbody>\n",
       "</table>\n",
       "</div>"
      ],
      "text/plain": [
       "         11          12         01         02          03          04  \\\n",
       "Dry     0.0  133.467515  99.763701  95.053591  119.348031  107.891710   \n",
       "Normal  0.0  112.006897  78.548276  75.841379   93.534483   83.936578   \n",
       "Wet     0.0   90.546279  57.332850  56.629167   67.720934   58.796203   \n",
       "\n",
       "               05         06  \n",
       "Dry     71.967699  62.446594  \n",
       "Normal  48.542957  61.100000  \n",
       "Wet     22.755232  59.753406  "
      ]
     },
     "execution_count": 6,
     "metadata": {},
     "output_type": "execute_result"
    }
   ],
   "source": [
    "ac.NIR_chart_month(pnnmuf, '11', '06')"
   ]
  },
  {
   "cell_type": "code",
   "execution_count": 7,
   "metadata": {},
   "outputs": [
    {
     "name": "stderr",
     "output_type": "stream",
     "text": [
      "C:\\ProgramData\\Anaconda3\\lib\\site-packages\\numpy\\core\\fromnumeric.py:2889: RuntimeWarning: Mean of empty slice.\n",
      "  out=out, **kwargs)\n",
      "C:\\ProgramData\\Anaconda3\\lib\\site-packages\\numpy\\core\\_methods.py:80: RuntimeWarning: invalid value encountered in double_scalars\n",
      "  ret = ret.dtype.type(ret / rcount)\n",
      "C:\\ProgramData\\Anaconda3\\lib\\site-packages\\numpy\\core\\_methods.py:135: RuntimeWarning: Degrees of freedom <= 0 for slice\n",
      "  keepdims=keepdims)\n",
      "C:\\ProgramData\\Anaconda3\\lib\\site-packages\\numpy\\core\\_methods.py:105: RuntimeWarning: invalid value encountered in true_divide\n",
      "  arrmean, rcount, out=arrmean, casting='unsafe', subok=False)\n",
      "C:\\ProgramData\\Anaconda3\\lib\\site-packages\\numpy\\core\\_methods.py:127: RuntimeWarning: invalid value encountered in double_scalars\n",
      "  ret = ret.dtype.type(ret / rcount)\n"
     ]
    },
    {
     "data": {
      "text/html": [
       "<div>\n",
       "<style>\n",
       "    .dataframe thead tr:only-child th {\n",
       "        text-align: right;\n",
       "    }\n",
       "\n",
       "    .dataframe thead th {\n",
       "        text-align: left;\n",
       "    }\n",
       "\n",
       "    .dataframe tbody tr th {\n",
       "        vertical-align: top;\n",
       "    }\n",
       "</style>\n",
       "<table border=\"1\" class=\"dataframe\">\n",
       "  <thead>\n",
       "    <tr style=\"text-align: right;\">\n",
       "      <th></th>\n",
       "      <th>12-D1</th>\n",
       "      <th>12-D2</th>\n",
       "      <th>12-D3</th>\n",
       "      <th>01-D1</th>\n",
       "      <th>01-D2</th>\n",
       "      <th>01-D3</th>\n",
       "      <th>02-D1</th>\n",
       "      <th>02-D2</th>\n",
       "      <th>02-D3</th>\n",
       "      <th>03-D1</th>\n",
       "      <th>03-D2</th>\n",
       "      <th>03-D3</th>\n",
       "      <th>04-D1</th>\n",
       "      <th>04-D2</th>\n",
       "      <th>04-D3</th>\n",
       "      <th>05-D1</th>\n",
       "      <th>05-D2</th>\n",
       "      <th>05-D3</th>\n",
       "    </tr>\n",
       "  </thead>\n",
       "  <tbody>\n",
       "    <tr>\n",
       "      <th>Dry</th>\n",
       "      <td>59.522001</td>\n",
       "      <td>44.328544</td>\n",
       "      <td>40.842143</td>\n",
       "      <td>35.905696</td>\n",
       "      <td>34.949464</td>\n",
       "      <td>41.455644</td>\n",
       "      <td>37.476146</td>\n",
       "      <td>35.653899</td>\n",
       "      <td>32.492786</td>\n",
       "      <td>40.828699</td>\n",
       "      <td>39.307537</td>\n",
       "      <td>44.536509</td>\n",
       "      <td>41.349452</td>\n",
       "      <td>39.051034</td>\n",
       "      <td>36.946217</td>\n",
       "      <td>35.949055</td>\n",
       "      <td>28.731371</td>\n",
       "      <td>28.114775</td>\n",
       "    </tr>\n",
       "    <tr>\n",
       "      <th>Normal</th>\n",
       "      <td>48.912265</td>\n",
       "      <td>34.527586</td>\n",
       "      <td>30.900000</td>\n",
       "      <td>26.613793</td>\n",
       "      <td>23.996552</td>\n",
       "      <td>28.249027</td>\n",
       "      <td>26.689655</td>\n",
       "      <td>25.586207</td>\n",
       "      <td>23.565517</td>\n",
       "      <td>28.931034</td>\n",
       "      <td>29.500000</td>\n",
       "      <td>35.103448</td>\n",
       "      <td>32.210529</td>\n",
       "      <td>31.776923</td>\n",
       "      <td>27.986957</td>\n",
       "      <td>28.880283</td>\n",
       "      <td>19.936364</td>\n",
       "      <td>19.800000</td>\n",
       "    </tr>\n",
       "    <tr>\n",
       "      <th>Wet</th>\n",
       "      <td>37.085939</td>\n",
       "      <td>24.726629</td>\n",
       "      <td>20.957857</td>\n",
       "      <td>17.321890</td>\n",
       "      <td>13.043640</td>\n",
       "      <td>14.388977</td>\n",
       "      <td>15.903164</td>\n",
       "      <td>15.518515</td>\n",
       "      <td>14.638249</td>\n",
       "      <td>17.033370</td>\n",
       "      <td>19.692463</td>\n",
       "      <td>25.670388</td>\n",
       "      <td>22.619434</td>\n",
       "      <td>24.502812</td>\n",
       "      <td>19.027697</td>\n",
       "      <td>21.098446</td>\n",
       "      <td>11.141356</td>\n",
       "      <td>11.485225</td>\n",
       "    </tr>\n",
       "  </tbody>\n",
       "</table>\n",
       "</div>"
      ],
      "text/plain": [
       "            12-D1      12-D2      12-D3      01-D1      01-D2      01-D3  \\\n",
       "Dry     59.522001  44.328544  40.842143  35.905696  34.949464  41.455644   \n",
       "Normal  48.912265  34.527586  30.900000  26.613793  23.996552  28.249027   \n",
       "Wet     37.085939  24.726629  20.957857  17.321890  13.043640  14.388977   \n",
       "\n",
       "            02-D1      02-D2      02-D3      03-D1      03-D2      03-D3  \\\n",
       "Dry     37.476146  35.653899  32.492786  40.828699  39.307537  44.536509   \n",
       "Normal  26.689655  25.586207  23.565517  28.931034  29.500000  35.103448   \n",
       "Wet     15.903164  15.518515  14.638249  17.033370  19.692463  25.670388   \n",
       "\n",
       "            04-D1      04-D2      04-D3      05-D1      05-D2      05-D3  \n",
       "Dry     41.349452  39.051034  36.946217  35.949055  28.731371  28.114775  \n",
       "Normal  32.210529  31.776923  27.986957  28.880283  19.936364  19.800000  \n",
       "Wet     22.619434  24.502812  19.027697  21.098446  11.141356  11.485225  "
      ]
     },
     "execution_count": 7,
     "metadata": {},
     "output_type": "execute_result"
    }
   ],
   "source": [
    "ac.NIR_chart_decade(pnnmuf, '12-D1', '05-D3')"
   ]
  },
  {
   "cell_type": "code",
   "execution_count": 31,
   "metadata": {},
   "outputs": [
    {
     "data": {
      "text/plain": [
       "Variable(df=      run_number        date    DAP  YieldPart\n",
       "0              1  1987-11-01    1.0      0.000\n",
       "1              1  1987-11-02    2.0      0.000\n",
       "2              1  1987-11-03    3.0      0.000\n",
       "3              1  1987-11-04    4.0      0.000\n",
       "4              1  1987-11-05    5.0      0.000\n",
       "5              1  1987-11-06    6.0      0.000\n",
       "6              1  1987-11-07    7.0      0.000\n",
       "7              1  1987-11-08    8.0      0.000\n",
       "8              1  1987-11-09    9.0      0.000\n",
       "9              1  1987-11-10   10.0      0.000\n",
       "10             1  1987-11-11   11.0      0.000\n",
       "11             1  1987-11-12   12.0      0.000\n",
       "12             1  1987-11-13   13.0      0.000\n",
       "13             1  1987-11-14   14.0      0.000\n",
       "14             1  1987-11-15   15.0      0.000\n",
       "15             1  1987-11-16   16.0      0.000\n",
       "16             1  1987-11-17   17.0      0.000\n",
       "17             1  1987-11-18   18.0      0.000\n",
       "18             1  1987-11-19   19.0      0.000\n",
       "19             1  1987-11-20   20.0      0.000\n",
       "20             1  1987-11-21   21.0      0.000\n",
       "21             1  1987-11-22   22.0      0.000\n",
       "22             1  1987-11-23   23.0      0.000\n",
       "23             1  1987-11-24   24.0      0.000\n",
       "24             1  1987-11-25   25.0      0.000\n",
       "25             1  1987-11-26   26.0      0.000\n",
       "26             1  1987-11-27   27.0      0.000\n",
       "27             1  1987-11-28   28.0      0.000\n",
       "28             1  1987-11-29   29.0      0.000\n",
       "29             1  1987-11-30   30.0      0.000\n",
       "...          ...         ...    ...        ...\n",
       "5422          29  2016-03-11  132.0      7.770\n",
       "5423          29  2016-03-12  133.0      8.028\n",
       "5424          29  2016-03-13  134.0      8.283\n",
       "5425          29  2016-03-14  135.0      8.533\n",
       "5426          29  2016-03-15  136.0      8.780\n",
       "5427          29  2016-03-16  137.0      9.022\n",
       "5428          29  2016-03-17  138.0      9.260\n",
       "5429          29  2016-03-18  139.0      9.494\n",
       "5430          29  2016-03-19  140.0      9.723\n",
       "5431          29  2016-03-20  141.0      9.948\n",
       "5432          29  2016-03-21  142.0     10.168\n",
       "5433          29  2016-03-22  143.0     10.384\n",
       "5434          29  2016-03-23  144.0     10.595\n",
       "5435          29  2016-03-24  145.0     10.802\n",
       "5436          29  2016-03-25  146.0     11.005\n",
       "5437          29  2016-03-26  147.0     11.203\n",
       "5438          29  2016-03-27  148.0     11.398\n",
       "5439          29  2016-03-28  149.0     11.589\n",
       "5440          29  2016-03-29  150.0     11.777\n",
       "5441          29  2016-03-30  151.0     11.960\n",
       "5442          29  2016-03-31  152.0     12.141\n",
       "5443          29  2016-04-01  153.0     12.318\n",
       "5444          29  2016-04-02  154.0     12.493\n",
       "5445          29  2016-04-03  155.0     12.664\n",
       "5446          29  2016-04-04  156.0     12.833\n",
       "5447          29  2016-04-05  157.0     12.998\n",
       "5448          29  2016-04-06  158.0     13.162\n",
       "5449          29  2016-04-07  159.0     13.323\n",
       "5450          29  2016-04-08  160.0     13.481\n",
       "5451          29  2016-04-09  161.0     13.758\n",
       "\n",
       "[5452 rows x 4 columns], name='YieldPart', unit='ton/ha', description='', project_name='P.N.NM.UF')"
      ]
     },
     "execution_count": 31,
     "metadata": {},
     "output_type": "execute_result"
    }
   ],
   "source": [
    "pnnmuf.get_variable('yieldpart')"
   ]
  },
  {
   "cell_type": "code",
   "execution_count": null,
   "metadata": {},
   "outputs": [],
   "source": [
    "ac.tsplot(pnnmuf, 'CCw')\n",
    "ac.tsplot(prnmuf, 'CCw')"
   ]
  },
  {
   "cell_type": "code",
   "execution_count": null,
   "metadata": {
    "collapsed": true
   },
   "outputs": [],
   "source": []
  }
 ],
 "metadata": {
  "kernelspec": {
   "display_name": "Python 3",
   "language": "python",
   "name": "python3"
  },
  "language_info": {
   "codemirror_mode": {
    "name": "ipython",
    "version": 3
   },
   "file_extension": ".py",
   "mimetype": "text/x-python",
   "name": "python",
   "nbconvert_exporter": "python",
   "pygments_lexer": "ipython3",
   "version": "3.6.1"
  }
 },
 "nbformat": 4,
 "nbformat_minor": 2
}
